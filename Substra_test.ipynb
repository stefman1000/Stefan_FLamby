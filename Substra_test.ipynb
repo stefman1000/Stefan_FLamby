{
 "cells": [
  {
   "cell_type": "code",
   "execution_count": 1,
   "metadata": {},
   "outputs": [
    {
     "name": "stdout",
     "output_type": "stream",
     "text": [
      "[<substra.sdk.client.Client object at 0x7f82cd5b4250>, <substra.sdk.client.Client object at 0x7f82b8976fa0>, <substra.sdk.client.Client object at 0x7f82cd591370>]\n",
      "{'Bridge2AI': <substra.sdk.client.Client object at 0x7f82cd5b4250>, 'WCM': <substra.sdk.client.Client object at 0x7f82b8976fa0>, 'USF': <substra.sdk.client.Client object at 0x7f82cd591370>}\n",
      "['WCM', 'USF']\n",
      "<substra.sdk.client.Client object at 0x7f82cd5b4250>\n"
     ]
    }
   ],
   "source": [
    "from substra import Client\n",
    "import substra \n",
    "import pathlib\n",
    "from flamby.datasets import fed_tcga_brca\n",
    "\n",
    "\n",
    "\n",
    "\n",
    "MODE = \"remote\"\n",
    "\n",
    "# Create the substra clients\n",
    "data_provider_clients = [\n",
    "\t\tsubstra.Client(url='https://fl-api.b2ai-staging.b2ai-voice.org/', token='03da14857bc494c06af6b21cbf4ad6e4430de3bd', backend_type=MODE), # Bridge2ai\n",
    "\t\tsubstra.Client(url='https://fl-api.wcm-staging.b2ai-voice.org/', token='5979f77ee6001c6f0846cd33c72f484c24573342', backend_type=MODE), # WCM, \n",
    "        substra.Client(url='https://fl-api.usf-staging.b2ai-voice.org/', token='d3dffc039cd47b8eb2757de2f8786db3cb8fbaa8', backend_type=MODE) # USF\n",
    "\t]\n",
    "print(data_provider_clients)\n",
    "# print([client.organization_info().organization_id for client in data_provider_clients])\n",
    "data_provider_clients = {\n",
    "    \"Bridge2AI\": data_provider_clients[0],\n",
    "    \"WCM\": data_provider_clients[1],\n",
    "    \"USF\": data_provider_clients[2]\n",
    "}\n",
    "\n",
    "# algo_provider_client = substra.Client(url='https://fl-api.b2ai-dev.b2ai-voice.org/', token='5ecd6c2e8d027583c9cb97808e2189e0afb6b43e', backend_type=MODE) # Bridge2ai\n",
    "algo_provider_client = data_provider_clients['Bridge2AI']\n",
    "\n",
    "\n",
    "\n",
    "\n",
    "# Store their IDs\n",
    "DATA_PROVIDER_ORGS_ID = list(data_provider_clients.keys())\n",
    "print(data_provider_clients)\n",
    "print(DATA_PROVIDER_ORGS_ID[1:3])\n",
    "print(algo_provider_client)\n",
    "\n",
    "# The org id on which your computation tasks are registered\n",
    "ALGO_ORG_ID = \"Bridge2AI\""
   ]
  },
  {
   "cell_type": "markdown",
   "metadata": {},
   "source": [
    "Create Substra Clients for Each org"
   ]
  },
  {
   "cell_type": "code",
   "execution_count": 5,
   "metadata": {},
   "outputs": [
    {
     "name": "stdout",
     "output_type": "stream",
     "text": [
      "/Users/Stefan/Dropbox/Computer_Science/Owkin_Internship/FLamby/integration/Substra/assets\n",
      "['Bridge2AI', 'WCM', 'USF']\n",
      "{'Bridge2AI': <substra.sdk.client.Client object at 0x7f82cd5b4250>, 'WCM': <substra.sdk.client.Client object at 0x7f82b8976fa0>, 'USF': <substra.sdk.client.Client object at 0x7f82cd591370>}\n",
      "WCM\n",
      "<substra.sdk.client.Client object at 0x7f82b8976fa0>\n"
     ]
    },
    {
     "name": "stderr",
     "output_type": "stream",
     "text": [
      "Requests error status 500: {\"message\":\"ERROR: relation \\\"datamanagers\\\" does not exist (SQLSTATE 42P01)\"}\n"
     ]
    },
    {
     "ename": "InternalServerError",
     "evalue": "500 Server Error: Internal Server Error for url: https://fl-api.wcm-staging.b2ai-voice.org/data_manager/: ERROR: relation \"datamanagers\" does not exist (SQLSTATE 42P01)",
     "output_type": "error",
     "traceback": [
      "\u001b[0;31m---------------------------------------------------------------------------\u001b[0m",
      "\u001b[0;31mHTTPError\u001b[0m                                 Traceback (most recent call last)",
      "File \u001b[0;32m~/opt/miniconda3/envs/flamby/lib/python3.8/site-packages/substra/sdk/backends/remote/rest_client.py:103\u001b[0m, in \u001b[0;36mClient.__request\u001b[0;34m(self, request_name, url, **request_kwargs)\u001b[0m\n\u001b[1;32m    102\u001b[0m     r \u001b[39m=\u001b[39m fn(url, headers\u001b[39m=\u001b[39m\u001b[39mself\u001b[39m\u001b[39m.\u001b[39m_headers, \u001b[39m*\u001b[39m\u001b[39m*\u001b[39mkwargs)\n\u001b[0;32m--> 103\u001b[0m     r\u001b[39m.\u001b[39;49mraise_for_status()\n\u001b[1;32m    105\u001b[0m \u001b[39mexcept\u001b[39;00m requests\u001b[39m.\u001b[39mexceptions\u001b[39m.\u001b[39mConnectionError \u001b[39mas\u001b[39;00m e:\n",
      "File \u001b[0;32m~/opt/miniconda3/envs/flamby/lib/python3.8/site-packages/requests/models.py:1021\u001b[0m, in \u001b[0;36mResponse.raise_for_status\u001b[0;34m(self)\u001b[0m\n\u001b[1;32m   1020\u001b[0m \u001b[39mif\u001b[39;00m http_error_msg:\n\u001b[0;32m-> 1021\u001b[0m     \u001b[39mraise\u001b[39;00m HTTPError(http_error_msg, response\u001b[39m=\u001b[39m\u001b[39mself\u001b[39m)\n",
      "\u001b[0;31mHTTPError\u001b[0m: 500 Server Error: Internal Server Error for url: https://fl-api.wcm-staging.b2ai-voice.org/data_manager/",
      "\nDuring handling of the above exception, another exception occurred:\n",
      "\u001b[0;31mInternalServerError\u001b[0m                       Traceback (most recent call last)",
      "Cell \u001b[0;32mIn[5], line 44\u001b[0m\n\u001b[1;32m     42\u001b[0m \u001b[39m# Add the dataset to the client to provide access to the opener in each organization.\u001b[39;00m\n\u001b[1;32m     43\u001b[0m \u001b[39mprint\u001b[39m(client)\n\u001b[0;32m---> 44\u001b[0m train_dataset_key \u001b[39m=\u001b[39m client\u001b[39m.\u001b[39;49madd_dataset(dataset)\n\u001b[1;32m     46\u001b[0m \u001b[39mprint\u001b[39m(client)\n\u001b[1;32m     48\u001b[0m \u001b[39massert\u001b[39;00m train_dataset_key, \u001b[39m\"\u001b[39m\u001b[39mMissing data manager key\u001b[39m\u001b[39m\"\u001b[39m\n",
      "File \u001b[0;32m~/opt/miniconda3/envs/flamby/lib/python3.8/site-packages/substra/sdk/client.py:48\u001b[0m, in \u001b[0;36mlogit.<locals>.wrapper\u001b[0;34m(*args, **kwargs)\u001b[0m\n\u001b[1;32m     46\u001b[0m error \u001b[39m=\u001b[39m \u001b[39mNone\u001b[39;00m\n\u001b[1;32m     47\u001b[0m \u001b[39mtry\u001b[39;00m:\n\u001b[0;32m---> 48\u001b[0m     \u001b[39mreturn\u001b[39;00m f(\u001b[39m*\u001b[39;49margs, \u001b[39m*\u001b[39;49m\u001b[39m*\u001b[39;49mkwargs)\n\u001b[1;32m     49\u001b[0m \u001b[39mexcept\u001b[39;00m \u001b[39mException\u001b[39;00m \u001b[39mas\u001b[39;00m e:\n\u001b[1;32m     50\u001b[0m     error \u001b[39m=\u001b[39m e\u001b[39m.\u001b[39m\u001b[39m__class__\u001b[39m\u001b[39m.\u001b[39m\u001b[39m__name__\u001b[39m\n",
      "File \u001b[0;32m~/opt/miniconda3/envs/flamby/lib/python3.8/site-packages/substra/sdk/client.py:456\u001b[0m, in \u001b[0;36mClient.add_dataset\u001b[0;34m(self, data)\u001b[0m\n\u001b[1;32m    446\u001b[0m \u001b[39m\u001b[39m\u001b[39m\"\"\"Create new dataset asset and return its key.\u001b[39;00m\n\u001b[1;32m    447\u001b[0m \n\u001b[1;32m    448\u001b[0m \u001b[39mArgs:\u001b[39;00m\n\u001b[0;32m   (...)\u001b[0m\n\u001b[1;32m    453\u001b[0m \u001b[39m    str: Key of the dataset\u001b[39;00m\n\u001b[1;32m    454\u001b[0m \u001b[39m\"\"\"\u001b[39;00m\n\u001b[1;32m    455\u001b[0m spec \u001b[39m=\u001b[39m \u001b[39mself\u001b[39m\u001b[39m.\u001b[39m_get_spec(schemas\u001b[39m.\u001b[39mDatasetSpec, data)\n\u001b[0;32m--> 456\u001b[0m \u001b[39mreturn\u001b[39;00m \u001b[39mself\u001b[39;49m\u001b[39m.\u001b[39;49m_backend\u001b[39m.\u001b[39;49madd(spec)\n",
      "File \u001b[0;32m~/opt/miniconda3/envs/flamby/lib/python3.8/site-packages/substra/sdk/backends/remote/backend.py:193\u001b[0m, in \u001b[0;36mRemote.add\u001b[0;34m(self, spec, spec_options)\u001b[0m\n\u001b[1;32m    190\u001b[0m     \u001b[39mreturn\u001b[39;00m \u001b[39mself\u001b[39m\u001b[39m.\u001b[39m_add_tasks([spec], spec_options)[\u001b[39m0\u001b[39m][\u001b[39m\"\u001b[39m\u001b[39mkey\u001b[39m\u001b[39m\"\u001b[39m]\n\u001b[1;32m    192\u001b[0m \u001b[39mwith\u001b[39;00m spec\u001b[39m.\u001b[39mbuild_request_kwargs(\u001b[39m*\u001b[39m\u001b[39m*\u001b[39mspec_options) \u001b[39mas\u001b[39;00m (data, files):\n\u001b[0;32m--> 193\u001b[0m     response \u001b[39m=\u001b[39m \u001b[39mself\u001b[39;49m\u001b[39m.\u001b[39;49m_add(asset_type, data, files\u001b[39m=\u001b[39;49mfiles)\n\u001b[1;32m    195\u001b[0m \u001b[39mreturn\u001b[39;00m response[\u001b[39m\"\u001b[39m\u001b[39mkey\u001b[39m\u001b[39m\"\u001b[39m]\n",
      "File \u001b[0;32m~/opt/miniconda3/envs/flamby/lib/python3.8/site-packages/substra/sdk/backends/remote/backend.py:142\u001b[0m, in \u001b[0;36mRemote._add\u001b[0;34m(self, asset, data, files)\u001b[0m\n\u001b[1;32m    137\u001b[0m \u001b[39melse\u001b[39;00m:\n\u001b[1;32m    138\u001b[0m     kwargs \u001b[39m=\u001b[39m {\n\u001b[1;32m    139\u001b[0m         \u001b[39m\"\u001b[39m\u001b[39mjson\u001b[39m\u001b[39m\"\u001b[39m: data,\n\u001b[1;32m    140\u001b[0m     }\n\u001b[0;32m--> 142\u001b[0m \u001b[39mreturn\u001b[39;00m \u001b[39mself\u001b[39;49m\u001b[39m.\u001b[39;49m_client\u001b[39m.\u001b[39;49madd(\n\u001b[1;32m    143\u001b[0m     asset\u001b[39m.\u001b[39;49mto_server(),\n\u001b[1;32m    144\u001b[0m     retry_timeout\u001b[39m=\u001b[39;49m\u001b[39mself\u001b[39;49m\u001b[39m.\u001b[39;49m_retry_timeout,\n\u001b[1;32m    145\u001b[0m     \u001b[39m*\u001b[39;49m\u001b[39m*\u001b[39;49mkwargs,\n\u001b[1;32m    146\u001b[0m )\n",
      "File \u001b[0;32m~/opt/miniconda3/envs/flamby/lib/python3.8/site-packages/substra/sdk/backends/remote/rest_client.py:298\u001b[0m, in \u001b[0;36mClient.add\u001b[0;34m(self, name, retry_timeout, **request_kwargs)\u001b[0m\n\u001b[1;32m    293\u001b[0m \u001b[39m\u001b[39m\u001b[39m\"\"\"Add asset.\u001b[39;00m\n\u001b[1;32m    294\u001b[0m \n\u001b[1;32m    295\u001b[0m \u001b[39mIn case of timeout, block till resource is created.\u001b[39;00m\n\u001b[1;32m    296\u001b[0m \u001b[39m\"\"\"\u001b[39;00m\n\u001b[1;32m    297\u001b[0m \u001b[39mtry\u001b[39;00m:\n\u001b[0;32m--> 298\u001b[0m     \u001b[39mreturn\u001b[39;00m \u001b[39mself\u001b[39;49m\u001b[39m.\u001b[39;49m_add(name, \u001b[39m*\u001b[39;49m\u001b[39m*\u001b[39;49mrequest_kwargs)\n\u001b[1;32m    300\u001b[0m \u001b[39mexcept\u001b[39;00m exceptions\u001b[39m.\u001b[39mRequestTimeout \u001b[39mas\u001b[39;00m e:\n\u001b[1;32m    301\u001b[0m     key \u001b[39m=\u001b[39m e\u001b[39m.\u001b[39mkey\n",
      "File \u001b[0;32m~/opt/miniconda3/envs/flamby/lib/python3.8/site-packages/substra/sdk/backends/remote/rest_client.py:273\u001b[0m, in \u001b[0;36mClient._add\u001b[0;34m(self, name, **request_kwargs)\u001b[0m\n\u001b[1;32m    268\u001b[0m \u001b[39m\u001b[39m\u001b[39m\"\"\"Add asset wrapper.\u001b[39;00m\n\u001b[1;32m    269\u001b[0m \n\u001b[1;32m    270\u001b[0m \u001b[39mHandles conflict error when created asset already exists.\u001b[39;00m\n\u001b[1;32m    271\u001b[0m \u001b[39m\"\"\"\u001b[39;00m\n\u001b[1;32m    272\u001b[0m \u001b[39mtry\u001b[39;00m:\n\u001b[0;32m--> 273\u001b[0m     \u001b[39mreturn\u001b[39;00m \u001b[39mself\u001b[39;49m\u001b[39m.\u001b[39;49mrequest(\u001b[39m\"\u001b[39;49m\u001b[39mpost\u001b[39;49m\u001b[39m\"\u001b[39;49m, name, \u001b[39m*\u001b[39;49m\u001b[39m*\u001b[39;49mrequest_kwargs)\n\u001b[1;32m    275\u001b[0m \u001b[39mexcept\u001b[39;00m exceptions\u001b[39m.\u001b[39mAlreadyExists \u001b[39mas\u001b[39;00m e:\n\u001b[1;32m    276\u001b[0m     key \u001b[39m=\u001b[39m e\u001b[39m.\u001b[39mkey\n",
      "File \u001b[0;32m~/opt/miniconda3/envs/flamby/lib/python3.8/site-packages/substra/sdk/backends/remote/rest_client.py:192\u001b[0m, in \u001b[0;36mClient.request\u001b[0;34m(self, request_name, asset_type, path, json_response, paginated, **request_kwargs)\u001b[0m\n\u001b[1;32m    189\u001b[0m     url \u001b[39m=\u001b[39m url \u001b[39m+\u001b[39m \u001b[39m\"\u001b[39m\u001b[39m/\u001b[39m\u001b[39m\"\u001b[39m  \u001b[39m# server requires a suffix /\u001b[39;00m\n\u001b[1;32m    191\u001b[0m \u001b[39m# first request\u001b[39;00m\n\u001b[0;32m--> 192\u001b[0m response \u001b[39m=\u001b[39m \u001b[39mself\u001b[39;49m\u001b[39m.\u001b[39;49m_request(\n\u001b[1;32m    193\u001b[0m     request_name,\n\u001b[1;32m    194\u001b[0m     url,\n\u001b[1;32m    195\u001b[0m     \u001b[39m*\u001b[39;49m\u001b[39m*\u001b[39;49mrequest_kwargs,\n\u001b[1;32m    196\u001b[0m )\n\u001b[1;32m    198\u001b[0m \u001b[39mif\u001b[39;00m \u001b[39mnot\u001b[39;00m json_response:\n\u001b[1;32m    199\u001b[0m     \u001b[39mreturn\u001b[39;00m response\n",
      "File \u001b[0;32m~/opt/miniconda3/envs/flamby/lib/python3.8/site-packages/substra/sdk/utils.py:214\u001b[0m, in \u001b[0;36mretry_on_exception.<locals>._retry.<locals>.wrapper\u001b[0;34m(*args, **kwargs)\u001b[0m\n\u001b[1;32m    212\u001b[0m \u001b[39mwhile\u001b[39;00m \u001b[39mTrue\u001b[39;00m:\n\u001b[1;32m    213\u001b[0m     \u001b[39mtry\u001b[39;00m:\n\u001b[0;32m--> 214\u001b[0m         \u001b[39mreturn\u001b[39;00m f(\u001b[39m*\u001b[39;49margs, \u001b[39m*\u001b[39;49m\u001b[39m*\u001b[39;49mkwargs)\n\u001b[1;32m    216\u001b[0m     \u001b[39mexcept\u001b[39;00m exceptions:\n\u001b[1;32m    217\u001b[0m         \u001b[39mif\u001b[39;00m timeout \u001b[39mis\u001b[39;00m \u001b[39mnot\u001b[39;00m \u001b[39mFalse\u001b[39;00m \u001b[39mand\u001b[39;00m time\u001b[39m.\u001b[39mtime() \u001b[39m-\u001b[39m tstart \u001b[39m>\u001b[39m timeout:\n",
      "File \u001b[0;32m~/opt/miniconda3/envs/flamby/lib/python3.8/site-packages/substra/sdk/backends/remote/rest_client.py:148\u001b[0m, in \u001b[0;36mClient._request\u001b[0;34m(self, request_name, url, **request_kwargs)\u001b[0m\n\u001b[1;32m    146\u001b[0m error \u001b[39m=\u001b[39m \u001b[39mNone\u001b[39;00m\n\u001b[1;32m    147\u001b[0m \u001b[39mtry\u001b[39;00m:\n\u001b[0;32m--> 148\u001b[0m     \u001b[39mreturn\u001b[39;00m \u001b[39mself\u001b[39;49m\u001b[39m.\u001b[39;49m__request(request_name, url, \u001b[39m*\u001b[39;49m\u001b[39m*\u001b[39;49mrequest_kwargs)\n\u001b[1;32m    149\u001b[0m \u001b[39mexcept\u001b[39;00m \u001b[39mException\u001b[39;00m \u001b[39mas\u001b[39;00m e:\n\u001b[1;32m    150\u001b[0m     error \u001b[39m=\u001b[39m e\u001b[39m.\u001b[39m\u001b[39m__class__\u001b[39m\u001b[39m.\u001b[39m\u001b[39m__name__\u001b[39m\n",
      "File \u001b[0;32m~/opt/miniconda3/envs/flamby/lib/python3.8/site-packages/substra/sdk/backends/remote/rest_client.py:133\u001b[0m, in \u001b[0;36mClient.__request\u001b[0;34m(self, request_name, url, **request_kwargs)\u001b[0m\n\u001b[1;32m    130\u001b[0m     \u001b[39mraise\u001b[39;00m exceptions\u001b[39m.\u001b[39mAlreadyExists\u001b[39m.\u001b[39mfrom_request_exception(e)\n\u001b[1;32m    132\u001b[0m \u001b[39mif\u001b[39;00m e\u001b[39m.\u001b[39mresponse\u001b[39m.\u001b[39mstatus_code \u001b[39m==\u001b[39m \u001b[39m500\u001b[39m:\n\u001b[0;32m--> 133\u001b[0m     \u001b[39mraise\u001b[39;00m exceptions\u001b[39m.\u001b[39mInternalServerError\u001b[39m.\u001b[39mfrom_request_exception(e)\n\u001b[1;32m    135\u001b[0m \u001b[39mif\u001b[39;00m e\u001b[39m.\u001b[39mresponse\u001b[39m.\u001b[39mstatus_code \u001b[39min\u001b[39;00m [\u001b[39m502\u001b[39m, \u001b[39m503\u001b[39m, \u001b[39m504\u001b[39m]:\n\u001b[1;32m    136\u001b[0m     \u001b[39mraise\u001b[39;00m exceptions\u001b[39m.\u001b[39mGatewayUnavailable\u001b[39m.\u001b[39mfrom_request_exception(e)\n",
      "\u001b[0;31mInternalServerError\u001b[0m: 500 Server Error: Internal Server Error for url: https://fl-api.wcm-staging.b2ai-voice.org/data_manager/: ERROR: relation \"datamanagers\" does not exist (SQLSTATE 42P01)"
     ]
    }
   ],
   "source": [
    "import pathlib\n",
    "\n",
    "from substra.sdk.schemas import DatasetSpec\n",
    "from substra.sdk.schemas import DataSampleSpec\n",
    "from substra.sdk.schemas import Permissions\n",
    "\n",
    "assets_directory = pathlib.Path.cwd() / \"integration/Substra/assets\"\n",
    "print(assets_directory)\n",
    "empty_path = \"\"\n",
    "\n",
    "permissions_dataset = Permissions(public=True, authorized_ids=[\"Bridge2AI\", 'WCM', 'USF'])\n",
    "\n",
    "\n",
    "train_dataset_keys = {}\n",
    "test_dataset_keys = {}\n",
    "\n",
    "train_datasample_keys = {}\n",
    "test_datasample_keys = {}\n",
    "print(DATA_PROVIDER_ORGS_ID)\n",
    "print(data_provider_clients)\n",
    "for ind, org_id in enumerate(DATA_PROVIDER_ORGS_ID[1:3]):\n",
    "    print(org_id)\n",
    "    ind += 1\n",
    "\n",
    "    client = data_provider_clients[org_id]\n",
    "    \n",
    "\n",
    "\n",
    "    # DatasetSpec is the specification of a dataset. It makes sure every field\n",
    "    # is well defined, and that our dataset is ready to be registered.\n",
    "    # The real dataset object is created in the add_dataset method.\n",
    "\n",
    "    dataset = DatasetSpec(\n",
    "        name=\"FLamby\",\n",
    "        type=\"torchDataset\",\n",
    "        data_opener=assets_directory / \"dataset\" / f\"opener_train_MyOrg{ind}MSP.py\",\n",
    "        description=assets_directory / \"dataset\" / \"description.md\",\n",
    "        permissions=permissions_dataset,\n",
    "        logs_permission=permissions_dataset,\n",
    "    )\n",
    "\n",
    "    # Add the dataset to the client to provide access to the opener in each organization.\n",
    "    print(client)\n",
    "    train_dataset_key = client.add_dataset(dataset)\n",
    "    \n",
    "    print(client)\n",
    "\n",
    "    assert train_dataset_key, \"Missing data manager key\"\n",
    "\n",
    "    train_dataset_keys[org_id] = train_dataset_key\n",
    "    print(client)\n",
    "    # Add the training data on each organization.\n",
    "    data_sample = DataSampleSpec(\n",
    "        data_manager_keys=[train_dataset_key],\n",
    "        test_only=False,\n",
    "        path=empty_path,\n",
    "    )\n",
    "    #print(client.list_dataset())\n",
    "    train_datasample_key = client.add_data_sample(\n",
    "        data_sample,\n",
    "        local=True,\n",
    "    )\n",
    "\n",
    "    train_datasample_keys[org_id] = train_datasample_key\n",
    "\n",
    "    # Add the testing data.\n",
    "\n",
    "    test_dataset_key = client.add_dataset(\n",
    "        DatasetSpec(\n",
    "            name=\"FLamby\",\n",
    "            type=\"torchDataset\",\n",
    "            data_opener=assets_directory / \"dataset\" / f\"opener_test_MyOrg{ind}MSP.py\",\n",
    "            description=assets_directory / \"dataset\" / \"description.md\",\n",
    "            permissions=permissions_dataset,\n",
    "            logs_permission=permissions_dataset,\n",
    "        )\n",
    "    )\n",
    "    assert test_dataset_key, \"Missing data manager key\"\n",
    "    test_dataset_keys[org_id] = test_dataset_key\n",
    "\n",
    "    data_sample = DataSampleSpec(\n",
    "        data_manager_keys=[test_dataset_key],\n",
    "        test_only=True,\n",
    "        path=empty_path,\n",
    "    )\n",
    "    test_datasample_key = client.add_data_sample(\n",
    "        data_sample,\n",
    "        local=True,\n",
    "        \n",
    "    )\n",
    "\n",
    "    test_datasample_keys[org_id] = test_datasample_key\n",
    "\n",
    "\n",
    "    "
   ]
  },
  {
   "cell_type": "markdown",
   "metadata": {},
   "source": [
    "Register Datasets and set permissions"
   ]
  },
  {
   "cell_type": "code",
   "execution_count": null,
   "metadata": {},
   "outputs": [
    {
     "name": "stdout",
     "output_type": "stream",
     "text": [
      "/Users/Stefan/Dropbox/Computer_Science/Owkin_Internship/FLamby\n",
      "0.32.0\n"
     ]
    }
   ],
   "source": [
    "import numpy as np\n",
    "\n",
    "from torch.utils import data\n",
    "\n",
    "from substrafl.dependency import Dependency\n",
    "\n",
    "\n",
    "def tgca_brca_metric(datasamples, predictions_path):\n",
    "\n",
    "    config = datasamples\n",
    "\n",
    "    dataset = fed_tcga_brca.FedTcgaBrca(**config)\n",
    "    dataloader = data.DataLoader(dataset, batch_size=len(dataset))\n",
    "\n",
    "    y_true =  next(iter(dataloader))[1]\n",
    "    y_pred = np.load(predictions_path)\n",
    "\n",
    "    return float(fed_tcga_brca.metric(y_true, y_pred))\n",
    "\n",
    "# The Dependency object is instantiated in order to install the right libraries in\n",
    "# the Python environment of each organization.\n",
    "# The local dependencies are local packages to be installed using the command `pip install -e .`.\n",
    "# Flamby is a local dependency. We put as argument the path to the `setup.py` file.\n",
    "print(pathlib.Path.cwd())\n",
    "metric_deps = Dependency(pypi_dependencies=[\"torch==1.11.0\",\"numpy==1.23.1\"],\n",
    "                         local_dependencies=[pathlib.Path.cwd()], # Flamby dependency\n",
    "                        )\n",
    "permissions_metric = Permissions(public = True, authorized_ids = DATA_PROVIDER_ORGS_ID)\n",
    "\n",
    "from importlib.metadata import version\n",
    "print(version('substrafl'))\n",
    "\n",
    "\n",
    "\n"
   ]
  },
  {
   "cell_type": "markdown",
   "metadata": {},
   "source": [
    "Specify how much data to train"
   ]
  },
  {
   "cell_type": "code",
   "execution_count": null,
   "metadata": {},
   "outputs": [],
   "source": [
    "from substrafl.index_generator import NpIndexGenerator\n",
    "\n",
    "NUM_UPDATES = 16\n",
    "SEED = 42\n",
    "\n",
    "index_generator = NpIndexGenerator(\n",
    "    batch_size=fed_tcga_brca.BATCH_SIZE,\n",
    "    num_updates=NUM_UPDATES,\n",
    ")"
   ]
  },
  {
   "cell_type": "code",
   "execution_count": null,
   "metadata": {},
   "outputs": [],
   "source": [
    "class TorchDataset(fed_tcga_brca.FedTcgaBrca):\n",
    "\n",
    "    def __init__(self, datasamples, is_inference):\n",
    "        config = datasamples\n",
    "        super().__init__(**config)"
   ]
  },
  {
   "cell_type": "markdown",
   "metadata": {},
   "source": [
    "Defines the Substra Algo"
   ]
  },
  {
   "cell_type": "code",
   "execution_count": null,
   "metadata": {},
   "outputs": [],
   "source": [
    "import torch\n",
    "\n",
    "from substrafl.algorithms.pytorch import TorchFedAvgAlgo\n",
    "\n",
    "model = fed_tcga_brca.Baseline()\n",
    "\n",
    "class MyAlgo(TorchFedAvgAlgo):\n",
    "    def __init__(self):\n",
    "        super().__init__(\n",
    "            model=model,\n",
    "            criterion=fed_tcga_brca.BaselineLoss(),\n",
    "            optimizer=fed_tcga_brca.Optimizer(model.parameters(), lr=fed_tcga_brca.LR),\n",
    "            index_generator=index_generator,\n",
    "            dataset=TorchDataset,\n",
    "            seed=SEED,\n",
    "        )\n",
    "\n",
    "    def _local_predict(self, predict_dataset: torch.utils.data.Dataset, predictions_path):\n",
    "\n",
    "        batch_size = self._index_generator.batch_size\n",
    "        predict_loader = torch.utils.data.DataLoader(predict_dataset, batch_size=batch_size)\n",
    "\n",
    "        self._model.eval()\n",
    "\n",
    "        # The output dimension of the model is of size (1,)\n",
    "        predictions = torch.zeros((len(predict_dataset), 1))\n",
    "\n",
    "        with torch.inference_mode():\n",
    "            for i, (x, _) in enumerate(predict_loader):\n",
    "                x = x.to(self._device)\n",
    "                predictions[i * batch_size: (i+1) * batch_size] = self._model(x)\n",
    "\n",
    "        predictions = predictions.cpu().detach()\n",
    "        self._save_predictions(predictions, predictions_path)"
   ]
  },
  {
   "cell_type": "markdown",
   "metadata": {},
   "source": [
    "Pick FL Strategy (using Fed Avg)"
   ]
  },
  {
   "cell_type": "code",
   "execution_count": null,
   "metadata": {},
   "outputs": [],
   "source": [
    "from substrafl.strategies import FedAvg\n",
    "\n",
    "\n",
    "\n",
    "strategy = FedAvg()\n"
   ]
  },
  {
   "cell_type": "markdown",
   "metadata": {},
   "source": [
    "Choose where to train and where to aggregate"
   ]
  },
  {
   "cell_type": "code",
   "execution_count": null,
   "metadata": {},
   "outputs": [
    {
     "name": "stdout",
     "output_type": "stream",
     "text": [
      "<organizations.aggregation_node.AggregationNode object at 0x7f8330d09a60>\n"
     ]
    }
   ],
   "source": [
    "from substrafl.nodes import TrainDataNode\n",
    "from substrafl.nodes import AggregationNode\n",
    "\n",
    "\n",
    "aggregation_node = AggregationNode('Bridge2AI')\n",
    "print(aggregation_node)\n",
    "\n",
    "train_data_nodes = list()\n",
    "\n",
    "for org_id in DATA_PROVIDER_ORGS_ID:\n",
    "\n",
    "    # Create the Train Data Node (or training task) and save it in a list\n",
    "    train_data_node = TrainDataNode(\n",
    "        organization_id=org_id,\n",
    "        data_manager_key=train_dataset_keys[org_id],\n",
    "        data_sample_keys=[train_datasample_keys[org_id]],\n",
    "    )\n",
    "    train_data_nodes.append(train_data_node)\n",
    "\n",
    "    \n",
    "\n"
   ]
  },
  {
   "cell_type": "markdown",
   "metadata": {},
   "source": [
    "Choose where and when to test"
   ]
  },
  {
   "cell_type": "code",
   "execution_count": null,
   "metadata": {},
   "outputs": [
    {
     "name": "stdout",
     "output_type": "stream",
     "text": [
      "{'Bridge2AI': '963c7bda-c562-4506-bc8d-39b8352e2acf', 'WCM': 'd4ce77db-0715-4278-a246-1c6fabb21cb4', 'USF': '7476eb35-565a-427c-98c3-5d2d5adb63a5'}\n",
      "Bridge2AI\n",
      "WCM\n",
      "USF\n",
      "[<substrafl.nodes.test_data_node.TestDataNode object at 0x7f83231af4f0>, <substrafl.nodes.test_data_node.TestDataNode object at 0x7f83231af130>, <substrafl.nodes.test_data_node.TestDataNode object at 0x7f832951f5b0>]\n",
      "0.40.0\n"
     ]
    }
   ],
   "source": [
    "from substrafl.nodes import TestDataNode\n",
    "from substrafl.evaluation_strategy import EvaluationStrategy\n",
    "\n",
    "\n",
    "\n",
    "\n",
    "\n",
    "test_data_nodes = list()\n",
    "print(test_datasample_keys)\n",
    "\n",
    "for org_id in DATA_PROVIDER_ORGS_ID:\n",
    "    print(org_id)\n",
    "\n",
    "    # Create the Test Data Node (or testing task) and save it in a list\n",
    "    test_data_node = TestDataNode(\n",
    "        organization_id=org_id,\n",
    "        data_manager_key=test_dataset_keys[org_id],\n",
    "        test_data_sample_keys=[test_datasample_keys[org_id]],\n",
    "        metric_functions={\"Accuracy\": tgca_brca_metric},\n",
    "    )\n",
    "    test_data_nodes.append(test_data_node)\n",
    "\n",
    "# Test at the end of every round\n",
    "print(test_data_nodes)\n",
    "my_eval_strategy = EvaluationStrategy(test_data_nodes=test_data_nodes, rounds=1)\n",
    "from importlib.metadata import version\n",
    "print(version('substra'))"
   ]
  },
  {
   "cell_type": "markdown",
   "metadata": {},
   "source": [
    "Performs the Experiment"
   ]
  },
  {
   "cell_type": "code",
   "execution_count": null,
   "metadata": {},
   "outputs": [
    {
     "name": "stderr",
     "output_type": "stream",
     "text": [
      "2023-08-22 12:43:32,667 - INFO - Building the compute plan.\n",
      "2023-08-22 12:43:32,674 - INFO - Registering the algorithm to Substra.\n",
      "Requests error status 404: \n",
      "<!doctype html>\n",
      "<html lang=\"en\">\n",
      "<head>\n",
      "  <title>Not Found</title>\n",
      "</head>\n",
      "<body>\n",
      "  <h1>Not Found</h1><p>The requested resource was not found on this server.</p>\n",
      "</body>\n",
      "</html>\n",
      "\n"
     ]
    },
    {
     "ename": "NotFound",
     "evalue": "404 Client Error: Not Found for url: https://fl-api.b2ai-dev.b2ai-voice.org/algo/",
     "output_type": "error",
     "traceback": [
      "\u001b[0;31m---------------------------------------------------------------------------\u001b[0m",
      "\u001b[0;31mHTTPError\u001b[0m                                 Traceback (most recent call last)",
      "File \u001b[0;32m~/opt/miniconda3/envs/flamby/lib/python3.8/site-packages/substra/sdk/backends/remote/rest_client.py:103\u001b[0m, in \u001b[0;36mClient.__request\u001b[0;34m(self, request_name, url, **request_kwargs)\u001b[0m\n\u001b[1;32m    102\u001b[0m     r \u001b[39m=\u001b[39m fn(url, headers\u001b[39m=\u001b[39m\u001b[39mself\u001b[39m\u001b[39m.\u001b[39m_headers, \u001b[39m*\u001b[39m\u001b[39m*\u001b[39mkwargs)\n\u001b[0;32m--> 103\u001b[0m     r\u001b[39m.\u001b[39;49mraise_for_status()\n\u001b[1;32m    105\u001b[0m \u001b[39mexcept\u001b[39;00m requests\u001b[39m.\u001b[39mexceptions\u001b[39m.\u001b[39mConnectionError \u001b[39mas\u001b[39;00m e:\n",
      "File \u001b[0;32m~/opt/miniconda3/envs/flamby/lib/python3.8/site-packages/requests/models.py:1021\u001b[0m, in \u001b[0;36mResponse.raise_for_status\u001b[0;34m(self)\u001b[0m\n\u001b[1;32m   1020\u001b[0m \u001b[39mif\u001b[39;00m http_error_msg:\n\u001b[0;32m-> 1021\u001b[0m     \u001b[39mraise\u001b[39;00m HTTPError(http_error_msg, response\u001b[39m=\u001b[39m\u001b[39mself\u001b[39m)\n",
      "\u001b[0;31mHTTPError\u001b[0m: 404 Client Error: Not Found for url: https://fl-api.b2ai-dev.b2ai-voice.org/algo/",
      "\nDuring handling of the above exception, another exception occurred:\n",
      "\u001b[0;31mNotFound\u001b[0m                                  Traceback (most recent call last)",
      "Cell \u001b[0;32mIn[14], line 14\u001b[0m\n\u001b[1;32m     11\u001b[0m algo_deps \u001b[39m=\u001b[39m Dependency(pypi_dependencies\u001b[39m=\u001b[39m[\u001b[39m\"\u001b[39m\u001b[39mtorch==1.11.0\u001b[39m\u001b[39m\"\u001b[39m], local_dependencies\u001b[39m=\u001b[39m[pathlib\u001b[39m.\u001b[39mPath\u001b[39m.\u001b[39mcwd()])\n\u001b[1;32m     12\u001b[0m \u001b[39m#algo_deps = Dependency(pypi_dependencies=[\"torch==1.11.0\"])\u001b[39;00m\n\u001b[0;32m---> 14\u001b[0m compute_plan \u001b[39m=\u001b[39m execute_experiment(\n\u001b[1;32m     15\u001b[0m     client\u001b[39m=\u001b[39;49malgo_provider_client,\n\u001b[1;32m     16\u001b[0m     algo\u001b[39m=\u001b[39;49mMyAlgo(),\n\u001b[1;32m     17\u001b[0m     strategy\u001b[39m=\u001b[39;49mstrategy,\n\u001b[1;32m     18\u001b[0m     train_data_nodes\u001b[39m=\u001b[39;49mtrain_data_nodes,\n\u001b[1;32m     19\u001b[0m     evaluation_strategy\u001b[39m=\u001b[39;49mmy_eval_strategy,\n\u001b[1;32m     20\u001b[0m     aggregation_node\u001b[39m=\u001b[39;49maggregation_node,\n\u001b[1;32m     21\u001b[0m     num_rounds\u001b[39m=\u001b[39;49mNUM_ROUNDS,\n\u001b[1;32m     22\u001b[0m     experiment_folder\u001b[39m=\u001b[39;49m \u001b[39mstr\u001b[39;49m(pathlib\u001b[39m.\u001b[39;49mPath\u001b[39m.\u001b[39;49mcwd() \u001b[39m/\u001b[39;49m \u001b[39m\"\u001b[39;49m\u001b[39mexperiment_summaries\u001b[39;49m\u001b[39m\"\u001b[39;49m),\n\u001b[1;32m     23\u001b[0m     dependencies\u001b[39m=\u001b[39;49malgo_deps,\n\u001b[1;32m     24\u001b[0m )\n",
      "File \u001b[0;32m~/opt/miniconda3/envs/flamby/lib/python3.8/site-packages/substrafl/experiment.py:328\u001b[0m, in \u001b[0;36mexecute_experiment\u001b[0;34m(client, algo, strategy, train_data_nodes, num_rounds, experiment_folder, aggregation_node, evaluation_strategy, dependencies, clean_models, name, additional_metadata, task_submission_batch_size)\u001b[0m\n\u001b[1;32m    326\u001b[0m \u001b[39m# Computation graph is created\u001b[39;00m\n\u001b[1;32m    327\u001b[0m logger\u001b[39m.\u001b[39minfo(\u001b[39m\"\u001b[39m\u001b[39mRegistering the algorithm to Substra.\u001b[39m\u001b[39m\"\u001b[39m)\n\u001b[0;32m--> 328\u001b[0m tasks, operation_cache \u001b[39m=\u001b[39m _register_operations(\n\u001b[1;32m    329\u001b[0m     client\u001b[39m=\u001b[39;49mclient,\n\u001b[1;32m    330\u001b[0m     train_data_nodes\u001b[39m=\u001b[39;49mtrain_data_nodes,\n\u001b[1;32m    331\u001b[0m     aggregation_node\u001b[39m=\u001b[39;49maggregation_node,\n\u001b[1;32m    332\u001b[0m     evaluation_strategy\u001b[39m=\u001b[39;49mevaluation_strategy,\n\u001b[1;32m    333\u001b[0m     dependencies\u001b[39m=\u001b[39;49mdependencies,\n\u001b[1;32m    334\u001b[0m )\n\u001b[1;32m    336\u001b[0m \u001b[39m# Execute the compute plan\u001b[39;00m\n\u001b[1;32m    337\u001b[0m logger\u001b[39m.\u001b[39minfo(\u001b[39m\"\u001b[39m\u001b[39mRegistering the compute plan to Substra.\u001b[39m\u001b[39m\"\u001b[39m)\n",
      "File \u001b[0;32m~/opt/miniconda3/envs/flamby/lib/python3.8/site-packages/substrafl/experiment.py:68\u001b[0m, in \u001b[0;36m_register_operations\u001b[0;34m(client, train_data_nodes, aggregation_node, evaluation_strategy, dependencies)\u001b[0m\n\u001b[1;32m     65\u001b[0m permissions \u001b[39m=\u001b[39m substra\u001b[39m.\u001b[39msdk\u001b[39m.\u001b[39mschemas\u001b[39m.\u001b[39mPermissions(public\u001b[39m=\u001b[39m\u001b[39mFalse\u001b[39;00m, authorized_ids\u001b[39m=\u001b[39mauthorized_ids)\n\u001b[1;32m     67\u001b[0m \u001b[39mfor\u001b[39;00m train_data_node \u001b[39min\u001b[39;00m train_data_nodes:\n\u001b[0;32m---> 68\u001b[0m     operation_cache \u001b[39m=\u001b[39m train_data_node\u001b[39m.\u001b[39;49mregister_operations(\n\u001b[1;32m     69\u001b[0m         client,\n\u001b[1;32m     70\u001b[0m         permissions,\n\u001b[1;32m     71\u001b[0m         cache\u001b[39m=\u001b[39;49moperation_cache,\n\u001b[1;32m     72\u001b[0m         dependencies\u001b[39m=\u001b[39;49mdependencies,\n\u001b[1;32m     73\u001b[0m     )\n\u001b[1;32m     75\u001b[0m     tasks \u001b[39m+\u001b[39m\u001b[39m=\u001b[39m train_data_node\u001b[39m.\u001b[39mtuples\n\u001b[1;32m     77\u001b[0m \u001b[39mif\u001b[39;00m evaluation_strategy \u001b[39mis\u001b[39;00m \u001b[39mnot\u001b[39;00m \u001b[39mNone\u001b[39;00m:\n",
      "File \u001b[0;32m~/opt/miniconda3/envs/flamby/lib/python3.8/site-packages/substrafl/nodes/train_data_node.py:181\u001b[0m, in \u001b[0;36mTrainDataNode.register_operations\u001b[0;34m(self, client, permissions, cache, dependencies)\u001b[0m\n\u001b[1;32m    178\u001b[0m remote_struct: RemoteStruct \u001b[39m=\u001b[39m \u001b[39mtuple\u001b[39m[\u001b[39m\"\u001b[39m\u001b[39mremote_operation\u001b[39m\u001b[39m\"\u001b[39m]\n\u001b[1;32m    180\u001b[0m \u001b[39mif\u001b[39;00m remote_struct \u001b[39mnot\u001b[39;00m \u001b[39min\u001b[39;00m cache:\n\u001b[0;32m--> 181\u001b[0m     algo_key \u001b[39m=\u001b[39m register_algo(\n\u001b[1;32m    182\u001b[0m         client\u001b[39m=\u001b[39;49mclient,\n\u001b[1;32m    183\u001b[0m         remote_struct\u001b[39m=\u001b[39;49mremote_struct,\n\u001b[1;32m    184\u001b[0m         permissions\u001b[39m=\u001b[39;49mpermissions,\n\u001b[1;32m    185\u001b[0m         inputs\u001b[39m=\u001b[39;49m[\n\u001b[1;32m    186\u001b[0m             schemas\u001b[39m.\u001b[39;49mAlgoInputSpec(\n\u001b[1;32m    187\u001b[0m                 identifier\u001b[39m=\u001b[39;49mInputIdentifiers\u001b[39m.\u001b[39;49mdatasamples,\n\u001b[1;32m    188\u001b[0m                 kind\u001b[39m=\u001b[39;49mschemas\u001b[39m.\u001b[39;49mAssetKind\u001b[39m.\u001b[39;49mdata_sample\u001b[39m.\u001b[39;49mvalue,\n\u001b[1;32m    189\u001b[0m                 optional\u001b[39m=\u001b[39;49m\u001b[39mFalse\u001b[39;49;00m,\n\u001b[1;32m    190\u001b[0m                 multiple\u001b[39m=\u001b[39;49m\u001b[39mTrue\u001b[39;49;00m,\n\u001b[1;32m    191\u001b[0m             ),\n\u001b[1;32m    192\u001b[0m             schemas\u001b[39m.\u001b[39;49mAlgoInputSpec(\n\u001b[1;32m    193\u001b[0m                 identifier\u001b[39m=\u001b[39;49mInputIdentifiers\u001b[39m.\u001b[39;49mopener,\n\u001b[1;32m    194\u001b[0m                 kind\u001b[39m=\u001b[39;49mschemas\u001b[39m.\u001b[39;49mAssetKind\u001b[39m.\u001b[39;49mdata_manager\u001b[39m.\u001b[39;49mvalue,\n\u001b[1;32m    195\u001b[0m                 optional\u001b[39m=\u001b[39;49m\u001b[39mFalse\u001b[39;49;00m,\n\u001b[1;32m    196\u001b[0m                 multiple\u001b[39m=\u001b[39;49m\u001b[39mFalse\u001b[39;49;00m,\n\u001b[1;32m    197\u001b[0m             ),\n\u001b[1;32m    198\u001b[0m             schemas\u001b[39m.\u001b[39;49mAlgoInputSpec(\n\u001b[1;32m    199\u001b[0m                 identifier\u001b[39m=\u001b[39;49mInputIdentifiers\u001b[39m.\u001b[39;49mlocal,\n\u001b[1;32m    200\u001b[0m                 kind\u001b[39m=\u001b[39;49mschemas\u001b[39m.\u001b[39;49mAssetKind\u001b[39m.\u001b[39;49mmodel\u001b[39m.\u001b[39;49mvalue,\n\u001b[1;32m    201\u001b[0m                 optional\u001b[39m=\u001b[39;49m\u001b[39mTrue\u001b[39;49;00m,\n\u001b[1;32m    202\u001b[0m                 multiple\u001b[39m=\u001b[39;49m\u001b[39mFalse\u001b[39;49;00m,\n\u001b[1;32m    203\u001b[0m             ),\n\u001b[1;32m    204\u001b[0m             schemas\u001b[39m.\u001b[39;49mAlgoInputSpec(\n\u001b[1;32m    205\u001b[0m                 identifier\u001b[39m=\u001b[39;49mInputIdentifiers\u001b[39m.\u001b[39;49mshared,\n\u001b[1;32m    206\u001b[0m                 kind\u001b[39m=\u001b[39;49mschemas\u001b[39m.\u001b[39;49mAssetKind\u001b[39m.\u001b[39;49mmodel\u001b[39m.\u001b[39;49mvalue,\n\u001b[1;32m    207\u001b[0m                 optional\u001b[39m=\u001b[39;49m\u001b[39mTrue\u001b[39;49;00m,\n\u001b[1;32m    208\u001b[0m                 multiple\u001b[39m=\u001b[39;49m\u001b[39mFalse\u001b[39;49;00m,\n\u001b[1;32m    209\u001b[0m             ),\n\u001b[1;32m    210\u001b[0m         ],\n\u001b[1;32m    211\u001b[0m         outputs\u001b[39m=\u001b[39;49m[\n\u001b[1;32m    212\u001b[0m             schemas\u001b[39m.\u001b[39;49mAlgoOutputSpec(\n\u001b[1;32m    213\u001b[0m                 identifier\u001b[39m=\u001b[39;49mOutputIdentifiers\u001b[39m.\u001b[39;49mlocal, kind\u001b[39m=\u001b[39;49mschemas\u001b[39m.\u001b[39;49mAssetKind\u001b[39m.\u001b[39;49mmodel\u001b[39m.\u001b[39;49mvalue, multiple\u001b[39m=\u001b[39;49m\u001b[39mFalse\u001b[39;49;00m\n\u001b[1;32m    214\u001b[0m             ),\n\u001b[1;32m    215\u001b[0m             schemas\u001b[39m.\u001b[39;49mAlgoOutputSpec(\n\u001b[1;32m    216\u001b[0m                 identifier\u001b[39m=\u001b[39;49mOutputIdentifiers\u001b[39m.\u001b[39;49mshared, kind\u001b[39m=\u001b[39;49mschemas\u001b[39m.\u001b[39;49mAssetKind\u001b[39m.\u001b[39;49mmodel\u001b[39m.\u001b[39;49mvalue, multiple\u001b[39m=\u001b[39;49m\u001b[39mFalse\u001b[39;49;00m\n\u001b[1;32m    217\u001b[0m             ),\n\u001b[1;32m    218\u001b[0m         ],\n\u001b[1;32m    219\u001b[0m         dependencies\u001b[39m=\u001b[39;49mdependencies,\n\u001b[1;32m    220\u001b[0m     )\n\u001b[1;32m    221\u001b[0m     cache[remote_struct] \u001b[39m=\u001b[39m algo_key\n\u001b[1;32m    222\u001b[0m \u001b[39melse\u001b[39;00m:\n",
      "File \u001b[0;32m~/opt/miniconda3/envs/flamby/lib/python3.8/site-packages/substrafl/remote/register/register.py:314\u001b[0m, in \u001b[0;36mregister_algo\u001b[0;34m(client, remote_struct, permissions, inputs, outputs, dependencies)\u001b[0m\n\u001b[1;32m    307\u001b[0m \u001b[39mwith\u001b[39;00m tempfile\u001b[39m.\u001b[39mTemporaryDirectory(\u001b[39mdir\u001b[39m\u001b[39m=\u001b[39m\u001b[39mstr\u001b[39m(Path\u001b[39m.\u001b[39mcwd()\u001b[39m.\u001b[39mresolve()), prefix\u001b[39m=\u001b[39mTMP_SUBSTRAFL_PREFIX) \u001b[39mas\u001b[39;00m operation_dir:\n\u001b[1;32m    308\u001b[0m     archive_path, description_path \u001b[39m=\u001b[39m _create_substra_algo_files(\n\u001b[1;32m    309\u001b[0m         remote_struct,\n\u001b[1;32m    310\u001b[0m         dependencies\u001b[39m=\u001b[39mdependencies,\n\u001b[1;32m    311\u001b[0m         install_libraries\u001b[39m=\u001b[39mclient\u001b[39m.\u001b[39mbackend_mode \u001b[39m!=\u001b[39m substra\u001b[39m.\u001b[39mBackendType\u001b[39m.\u001b[39mLOCAL_SUBPROCESS,\n\u001b[1;32m    312\u001b[0m         operation_dir\u001b[39m=\u001b[39mPath(operation_dir),\n\u001b[1;32m    313\u001b[0m     )\n\u001b[0;32m--> 314\u001b[0m     key \u001b[39m=\u001b[39m client\u001b[39m.\u001b[39;49madd_algo(\n\u001b[1;32m    315\u001b[0m         substra\u001b[39m.\u001b[39;49msdk\u001b[39m.\u001b[39;49mschemas\u001b[39m.\u001b[39;49mAlgoSpec(\n\u001b[1;32m    316\u001b[0m             name\u001b[39m=\u001b[39;49mremote_struct\u001b[39m.\u001b[39;49malgo_name,\n\u001b[1;32m    317\u001b[0m             description\u001b[39m=\u001b[39;49mdescription_path,\n\u001b[1;32m    318\u001b[0m             file\u001b[39m=\u001b[39;49marchive_path,\n\u001b[1;32m    319\u001b[0m             inputs\u001b[39m=\u001b[39;49minputs,\n\u001b[1;32m    320\u001b[0m             outputs\u001b[39m=\u001b[39;49moutputs,\n\u001b[1;32m    321\u001b[0m             permissions\u001b[39m=\u001b[39;49mpermissions,\n\u001b[1;32m    322\u001b[0m             metadata\u001b[39m=\u001b[39;49m\u001b[39mdict\u001b[39;49m(),\n\u001b[1;32m    323\u001b[0m         )\n\u001b[1;32m    324\u001b[0m     )\n\u001b[1;32m    325\u001b[0m     \u001b[39mreturn\u001b[39;00m key\n",
      "File \u001b[0;32m~/opt/miniconda3/envs/flamby/lib/python3.8/site-packages/substra/sdk/client.py:39\u001b[0m, in \u001b[0;36mlogit.<locals>.wrapper\u001b[0;34m(*args, **kwargs)\u001b[0m\n\u001b[1;32m     37\u001b[0m error \u001b[39m=\u001b[39m \u001b[39mNone\u001b[39;00m\n\u001b[1;32m     38\u001b[0m \u001b[39mtry\u001b[39;00m:\n\u001b[0;32m---> 39\u001b[0m     \u001b[39mreturn\u001b[39;00m f(\u001b[39m*\u001b[39;49margs, \u001b[39m*\u001b[39;49m\u001b[39m*\u001b[39;49mkwargs)\n\u001b[1;32m     40\u001b[0m \u001b[39mexcept\u001b[39;00m \u001b[39mException\u001b[39;00m \u001b[39mas\u001b[39;00m e:\n\u001b[1;32m     41\u001b[0m     error \u001b[39m=\u001b[39m e\u001b[39m.\u001b[39m\u001b[39m__class__\u001b[39m\u001b[39m.\u001b[39m\u001b[39m__name__\u001b[39m\n",
      "File \u001b[0;32m~/opt/miniconda3/envs/flamby/lib/python3.8/site-packages/substra/sdk/client.py:308\u001b[0m, in \u001b[0;36mClient.add_algo\u001b[0;34m(self, data)\u001b[0m\n\u001b[1;32m    298\u001b[0m \u001b[39m\u001b[39m\u001b[39m\"\"\"Create new algo asset.\u001b[39;00m\n\u001b[1;32m    299\u001b[0m \n\u001b[1;32m    300\u001b[0m \u001b[39mArgs:\u001b[39;00m\n\u001b[0;32m   (...)\u001b[0m\n\u001b[1;32m    305\u001b[0m \u001b[39m    str: Key of the algo\u001b[39;00m\n\u001b[1;32m    306\u001b[0m \u001b[39m\"\"\"\u001b[39;00m\n\u001b[1;32m    307\u001b[0m spec \u001b[39m=\u001b[39m \u001b[39mself\u001b[39m\u001b[39m.\u001b[39m_get_spec(schemas\u001b[39m.\u001b[39mAlgoSpec, data)\n\u001b[0;32m--> 308\u001b[0m \u001b[39mreturn\u001b[39;00m \u001b[39mself\u001b[39;49m\u001b[39m.\u001b[39;49m_backend\u001b[39m.\u001b[39;49madd(spec)\n",
      "File \u001b[0;32m~/opt/miniconda3/envs/flamby/lib/python3.8/site-packages/substra/sdk/backends/remote/backend.py:167\u001b[0m, in \u001b[0;36mRemote.add\u001b[0;34m(self, spec, spec_options)\u001b[0m\n\u001b[1;32m    164\u001b[0m     \u001b[39mreturn\u001b[39;00m \u001b[39mself\u001b[39m\u001b[39m.\u001b[39m_add_tuples([spec], spec_options)[\u001b[39m0\u001b[39m][\u001b[39m\"\u001b[39m\u001b[39mkey\u001b[39m\u001b[39m\"\u001b[39m]\n\u001b[1;32m    166\u001b[0m \u001b[39mwith\u001b[39;00m spec\u001b[39m.\u001b[39mbuild_request_kwargs(\u001b[39m*\u001b[39m\u001b[39m*\u001b[39mspec_options) \u001b[39mas\u001b[39;00m (data, files):\n\u001b[0;32m--> 167\u001b[0m     response \u001b[39m=\u001b[39m \u001b[39mself\u001b[39;49m\u001b[39m.\u001b[39;49m_add(asset_type, data, files\u001b[39m=\u001b[39;49mfiles)\n\u001b[1;32m    169\u001b[0m \u001b[39mreturn\u001b[39;00m response[\u001b[39m\"\u001b[39m\u001b[39mkey\u001b[39m\u001b[39m\"\u001b[39m]\n",
      "File \u001b[0;32m~/opt/miniconda3/envs/flamby/lib/python3.8/site-packages/substra/sdk/backends/remote/backend.py:116\u001b[0m, in \u001b[0;36mRemote._add\u001b[0;34m(self, asset, data, files)\u001b[0m\n\u001b[1;32m    111\u001b[0m \u001b[39melse\u001b[39;00m:\n\u001b[1;32m    112\u001b[0m     kwargs \u001b[39m=\u001b[39m {\n\u001b[1;32m    113\u001b[0m         \u001b[39m\"\u001b[39m\u001b[39mjson\u001b[39m\u001b[39m\"\u001b[39m: data,\n\u001b[1;32m    114\u001b[0m     }\n\u001b[0;32m--> 116\u001b[0m \u001b[39mreturn\u001b[39;00m \u001b[39mself\u001b[39;49m\u001b[39m.\u001b[39;49m_client\u001b[39m.\u001b[39;49madd(\n\u001b[1;32m    117\u001b[0m     asset\u001b[39m.\u001b[39;49mto_server(),\n\u001b[1;32m    118\u001b[0m     retry_timeout\u001b[39m=\u001b[39;49m\u001b[39mself\u001b[39;49m\u001b[39m.\u001b[39;49m_retry_timeout,\n\u001b[1;32m    119\u001b[0m     \u001b[39m*\u001b[39;49m\u001b[39m*\u001b[39;49mkwargs,\n\u001b[1;32m    120\u001b[0m )\n",
      "File \u001b[0;32m~/opt/miniconda3/envs/flamby/lib/python3.8/site-packages/substra/sdk/backends/remote/rest_client.py:298\u001b[0m, in \u001b[0;36mClient.add\u001b[0;34m(self, name, retry_timeout, **request_kwargs)\u001b[0m\n\u001b[1;32m    293\u001b[0m \u001b[39m\u001b[39m\u001b[39m\"\"\"Add asset.\u001b[39;00m\n\u001b[1;32m    294\u001b[0m \n\u001b[1;32m    295\u001b[0m \u001b[39mIn case of timeout, block till resource is created.\u001b[39;00m\n\u001b[1;32m    296\u001b[0m \u001b[39m\"\"\"\u001b[39;00m\n\u001b[1;32m    297\u001b[0m \u001b[39mtry\u001b[39;00m:\n\u001b[0;32m--> 298\u001b[0m     \u001b[39mreturn\u001b[39;00m \u001b[39mself\u001b[39;49m\u001b[39m.\u001b[39;49m_add(name, \u001b[39m*\u001b[39;49m\u001b[39m*\u001b[39;49mrequest_kwargs)\n\u001b[1;32m    300\u001b[0m \u001b[39mexcept\u001b[39;00m exceptions\u001b[39m.\u001b[39mRequestTimeout \u001b[39mas\u001b[39;00m e:\n\u001b[1;32m    301\u001b[0m     key \u001b[39m=\u001b[39m e\u001b[39m.\u001b[39mkey\n",
      "File \u001b[0;32m~/opt/miniconda3/envs/flamby/lib/python3.8/site-packages/substra/sdk/backends/remote/rest_client.py:273\u001b[0m, in \u001b[0;36mClient._add\u001b[0;34m(self, name, **request_kwargs)\u001b[0m\n\u001b[1;32m    268\u001b[0m \u001b[39m\u001b[39m\u001b[39m\"\"\"Add asset wrapper.\u001b[39;00m\n\u001b[1;32m    269\u001b[0m \n\u001b[1;32m    270\u001b[0m \u001b[39mHandles conflict error when created asset already exists.\u001b[39;00m\n\u001b[1;32m    271\u001b[0m \u001b[39m\"\"\"\u001b[39;00m\n\u001b[1;32m    272\u001b[0m \u001b[39mtry\u001b[39;00m:\n\u001b[0;32m--> 273\u001b[0m     \u001b[39mreturn\u001b[39;00m \u001b[39mself\u001b[39;49m\u001b[39m.\u001b[39;49mrequest(\u001b[39m\"\u001b[39;49m\u001b[39mpost\u001b[39;49m\u001b[39m\"\u001b[39;49m, name, \u001b[39m*\u001b[39;49m\u001b[39m*\u001b[39;49mrequest_kwargs)\n\u001b[1;32m    275\u001b[0m \u001b[39mexcept\u001b[39;00m exceptions\u001b[39m.\u001b[39mAlreadyExists \u001b[39mas\u001b[39;00m e:\n\u001b[1;32m    276\u001b[0m     key \u001b[39m=\u001b[39m e\u001b[39m.\u001b[39mkey\n",
      "File \u001b[0;32m~/opt/miniconda3/envs/flamby/lib/python3.8/site-packages/substra/sdk/backends/remote/rest_client.py:192\u001b[0m, in \u001b[0;36mClient.request\u001b[0;34m(self, request_name, asset_type, path, json_response, paginated, **request_kwargs)\u001b[0m\n\u001b[1;32m    189\u001b[0m     url \u001b[39m=\u001b[39m url \u001b[39m+\u001b[39m \u001b[39m\"\u001b[39m\u001b[39m/\u001b[39m\u001b[39m\"\u001b[39m  \u001b[39m# server requires a suffix /\u001b[39;00m\n\u001b[1;32m    191\u001b[0m \u001b[39m# first request\u001b[39;00m\n\u001b[0;32m--> 192\u001b[0m response \u001b[39m=\u001b[39m \u001b[39mself\u001b[39;49m\u001b[39m.\u001b[39;49m_request(\n\u001b[1;32m    193\u001b[0m     request_name,\n\u001b[1;32m    194\u001b[0m     url,\n\u001b[1;32m    195\u001b[0m     \u001b[39m*\u001b[39;49m\u001b[39m*\u001b[39;49mrequest_kwargs,\n\u001b[1;32m    196\u001b[0m )\n\u001b[1;32m    198\u001b[0m \u001b[39mif\u001b[39;00m \u001b[39mnot\u001b[39;00m json_response:\n\u001b[1;32m    199\u001b[0m     \u001b[39mreturn\u001b[39;00m response\n",
      "File \u001b[0;32m~/opt/miniconda3/envs/flamby/lib/python3.8/site-packages/substra/sdk/utils.py:214\u001b[0m, in \u001b[0;36mretry_on_exception.<locals>._retry.<locals>.wrapper\u001b[0;34m(*args, **kwargs)\u001b[0m\n\u001b[1;32m    212\u001b[0m \u001b[39mwhile\u001b[39;00m \u001b[39mTrue\u001b[39;00m:\n\u001b[1;32m    213\u001b[0m     \u001b[39mtry\u001b[39;00m:\n\u001b[0;32m--> 214\u001b[0m         \u001b[39mreturn\u001b[39;00m f(\u001b[39m*\u001b[39;49margs, \u001b[39m*\u001b[39;49m\u001b[39m*\u001b[39;49mkwargs)\n\u001b[1;32m    216\u001b[0m     \u001b[39mexcept\u001b[39;00m exceptions:\n\u001b[1;32m    217\u001b[0m         \u001b[39mif\u001b[39;00m timeout \u001b[39mis\u001b[39;00m \u001b[39mnot\u001b[39;00m \u001b[39mFalse\u001b[39;00m \u001b[39mand\u001b[39;00m time\u001b[39m.\u001b[39mtime() \u001b[39m-\u001b[39m tstart \u001b[39m>\u001b[39m timeout:\n",
      "File \u001b[0;32m~/opt/miniconda3/envs/flamby/lib/python3.8/site-packages/substra/sdk/backends/remote/rest_client.py:148\u001b[0m, in \u001b[0;36mClient._request\u001b[0;34m(self, request_name, url, **request_kwargs)\u001b[0m\n\u001b[1;32m    146\u001b[0m error \u001b[39m=\u001b[39m \u001b[39mNone\u001b[39;00m\n\u001b[1;32m    147\u001b[0m \u001b[39mtry\u001b[39;00m:\n\u001b[0;32m--> 148\u001b[0m     \u001b[39mreturn\u001b[39;00m \u001b[39mself\u001b[39;49m\u001b[39m.\u001b[39;49m__request(request_name, url, \u001b[39m*\u001b[39;49m\u001b[39m*\u001b[39;49mrequest_kwargs)\n\u001b[1;32m    149\u001b[0m \u001b[39mexcept\u001b[39;00m \u001b[39mException\u001b[39;00m \u001b[39mas\u001b[39;00m e:\n\u001b[1;32m    150\u001b[0m     error \u001b[39m=\u001b[39m e\u001b[39m.\u001b[39m\u001b[39m__class__\u001b[39m\u001b[39m.\u001b[39m\u001b[39m__name__\u001b[39m\n",
      "File \u001b[0;32m~/opt/miniconda3/envs/flamby/lib/python3.8/site-packages/substra/sdk/backends/remote/rest_client.py:124\u001b[0m, in \u001b[0;36mClient.__request\u001b[0;34m(self, request_name, url, **request_kwargs)\u001b[0m\n\u001b[1;32m    121\u001b[0m     \u001b[39mraise\u001b[39;00m exceptions\u001b[39m.\u001b[39mAuthorizationError\u001b[39m.\u001b[39mfrom_request_exception(e)\n\u001b[1;32m    123\u001b[0m \u001b[39mif\u001b[39;00m e\u001b[39m.\u001b[39mresponse\u001b[39m.\u001b[39mstatus_code \u001b[39m==\u001b[39m \u001b[39m404\u001b[39m:\n\u001b[0;32m--> 124\u001b[0m     \u001b[39mraise\u001b[39;00m exceptions\u001b[39m.\u001b[39mNotFound\u001b[39m.\u001b[39mfrom_request_exception(e)\n\u001b[1;32m    126\u001b[0m \u001b[39mif\u001b[39;00m e\u001b[39m.\u001b[39mresponse\u001b[39m.\u001b[39mstatus_code \u001b[39m==\u001b[39m \u001b[39m408\u001b[39m:\n\u001b[1;32m    127\u001b[0m     \u001b[39mraise\u001b[39;00m exceptions\u001b[39m.\u001b[39mRequestTimeout\u001b[39m.\u001b[39mfrom_request_exception(e)\n",
      "\u001b[0;31mNotFound\u001b[0m: 404 Client Error: Not Found for url: https://fl-api.b2ai-dev.b2ai-voice.org/algo/"
     ]
    }
   ],
   "source": [
    "from substrafl.experiment import execute_experiment\n",
    "\n",
    "# Number of time to apply the compute plan.\n",
    "NUM_ROUNDS = 3\n",
    "\n",
    "# The Dependency object is instantiated in order to install the right libraries in\n",
    "# the Python environment of each organization.\n",
    "# The local dependencies are local packages to be installed using the command `pip install -e .`.\n",
    "# Flamby is a local dependency. We put as argument the path to the `setup.py` file.\n",
    "\n",
    "algo_deps = Dependency(pypi_dependencies=[\"torch==1.11.0\"], local_dependencies=[pathlib.Path.cwd()])\n",
    "#algo_deps = Dependency(pypi_dependencies=[\"torch==1.11.0\"])\n",
    "\n",
    "compute_plan = execute_experiment(\n",
    "    client=algo_provider_client,\n",
    "    algo=MyAlgo(),\n",
    "    strategy=strategy,\n",
    "    train_data_nodes=train_data_nodes,\n",
    "    evaluation_strategy=my_eval_strategy,\n",
    "    aggregation_node=aggregation_node,\n",
    "    num_rounds=NUM_ROUNDS,\n",
    "    experiment_folder= str(pathlib.Path.cwd() / \"experiment_summaries\"),\n",
    "    dependencies=algo_deps,\n",
    ")"
   ]
  },
  {
   "cell_type": "code",
   "execution_count": null,
   "metadata": {},
   "outputs": [],
   "source": [
    "import pandas as pd\n",
    "import matplotlib.pyplot as plt\n",
    "plt.title(\"Performance evolution on each center of the baseline on Fed-TCGA-BRCA with Federated Averaging training\")\n",
    "plt.xlabel(\"Rounds\")\n",
    "plt.ylabel(\"Metric\")\n",
    "\n",
    "performance_df = pd.DataFrame(client.get_performances(compute_plan.key).dict())\n",
    "\n",
    "for i, id in enumerate(DATA_PROVIDER_ORGS_ID):\n",
    "    df = performance_df.query(f\"worker == '{id}'\")\n",
    "    plt.plot(df[\"round_idx\"], df[\"performance\"], label=f\"Client {i} ({id})\")\n",
    "\n",
    "plt.legend(loc=(1.1, 0.3), title=\"Test set\")\n",
    "plt.show()"
   ]
  }
 ],
 "metadata": {
  "kernelspec": {
   "display_name": "base",
   "language": "python",
   "name": "python3"
  },
  "language_info": {
   "codemirror_mode": {
    "name": "ipython",
    "version": 3
   },
   "file_extension": ".py",
   "mimetype": "text/x-python",
   "name": "python",
   "nbconvert_exporter": "python",
   "pygments_lexer": "ipython3",
   "version": "3.8.17"
  },
  "orig_nbformat": 4
 },
 "nbformat": 4,
 "nbformat_minor": 2
}
