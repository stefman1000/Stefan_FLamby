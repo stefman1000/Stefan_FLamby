{
 "cells": [
  {
   "cell_type": "code",
   "execution_count": 1,
   "metadata": {},
   "outputs": [
    {
     "name": "stdout",
     "output_type": "stream",
     "text": [
      "{'MyOrg1MSP': <substra.sdk.client.Client object at 0x7fa89d6a02b0>, 'MyOrg2MSP': <substra.sdk.client.Client object at 0x7fa89dd176a0>, 'MyOrg3MSP': <substra.sdk.client.Client object at 0x7fa89e810a00>, 'MyOrg4MSP': <substra.sdk.client.Client object at 0x7fa88caa1c70>, 'MyOrg5MSP': <substra.sdk.client.Client object at 0x7fa88caa1b80>, 'MyOrg6MSP': <substra.sdk.client.Client object at 0x7fa88caa8700>}\n",
      "['MyOrg2MSP', 'MyOrg3MSP']\n",
      "<substra.sdk.client.Client object at 0x7fa89d6a0220>\n"
     ]
    }
   ],
   "source": [
    "from substra import Client\n",
    "import substra \n",
    "import pathlib\n",
    "from flamby.datasets import fed_tcga_brca\n",
    "\n",
    "\n",
    "\n",
    "\n",
    "MODE = \"subprocess\"\n",
    "\n",
    "# Create the substra clients\n",
    "# clients = [\n",
    "# \t\t substra.Client(url='https://fl-api.b2ai-staging.b2ai-voice.org/', token='03da14857bc494c06af6b21cbf4ad6e4430de3bd', backend_type=MODE), # Bridge2ai\n",
    "# \t\tsubstra.Client(url='https://fl-api.wcm-staging.b2ai-voice.org/', token='5979f77ee6001c6f0846cd33c72f484c24573342', backend_type=MODE), # WCM, \n",
    "#         substra.Client(url='https://fl-api.usf-staging.b2ai-voice.org/', token='d3dffc039cd47b8eb2757de2f8786db3cb8fbaa8', backend_type=MODE) # USF\n",
    "# ]\n",
    "data_provider_clients = [Client(backend_type=MODE) for _ in range(fed_tcga_brca.NUM_CLIENTS)]\n",
    "data_provider_clients = {client.organization_info().organization_id: client for client in data_provider_clients}\n",
    "# print([client.organization_info().organization_id for client in clients])\n",
    "# data_provider_clients = {\n",
    "#     \"MyOrg1MSP\": clients[0],\n",
    "#     \"MyOrg2MSP\": clients[1],\n",
    "#     \"MyOrg3MSP\": clients[2]\n",
    "# }\n",
    "\n",
    "# algo_provider_client = substra.Client(url='https://fl-api.b2ai-dev.b2ai-voice.org/', token='5ecd6c2e8d027583c9cb97808e2189e0afb6b43e', backend_type=MODE) # Bridge2ai\n",
    "algo_provider_client = Client(backend_type=MODE)\n",
    "\n",
    "\n",
    "\n",
    "\n",
    "# Store their IDs\n",
    "DATA_PROVIDER_ORGS_ID = list(data_provider_clients.keys())\n",
    "print(data_provider_clients)\n",
    "print(DATA_PROVIDER_ORGS_ID[1:3])\n",
    "print(algo_provider_client)\n",
    "\n",
    "# The org id on which your computation tasks are registered\n",
    "ALGO_ORG_ID = \"MyOrg1MSP\""
   ]
  },
  {
   "cell_type": "markdown",
   "metadata": {},
   "source": [
    "Create Substra Clients for Each org"
   ]
  },
  {
   "cell_type": "code",
   "execution_count": 2,
   "metadata": {},
   "outputs": [
    {
     "name": "stdout",
     "output_type": "stream",
     "text": [
      "/Users/Stefan/Dropbox/Computer_Science/Owkin_Internship/FLamby/integration/Substra/assets\n",
      "['MyOrg1MSP', 'MyOrg2MSP', 'MyOrg3MSP', 'MyOrg4MSP', 'MyOrg5MSP', 'MyOrg6MSP']\n",
      "{'MyOrg1MSP': <substra.sdk.client.Client object at 0x7fa89d6a02b0>, 'MyOrg2MSP': <substra.sdk.client.Client object at 0x7fa89dd176a0>, 'MyOrg3MSP': <substra.sdk.client.Client object at 0x7fa89e810a00>, 'MyOrg4MSP': <substra.sdk.client.Client object at 0x7fa88caa1c70>, 'MyOrg5MSP': <substra.sdk.client.Client object at 0x7fa88caa1b80>, 'MyOrg6MSP': <substra.sdk.client.Client object at 0x7fa88caa8700>}\n",
      "MyOrg1MSP\n",
      "1\n",
      "<substra.sdk.client.Client object at 0x7fa89d6a02b0>\n",
      "<substra.sdk.client.Client object at 0x7fa89d6a02b0>\n",
      "MyOrg2MSP\n",
      "2\n",
      "<substra.sdk.client.Client object at 0x7fa89dd176a0>\n",
      "<substra.sdk.client.Client object at 0x7fa89dd176a0>\n",
      "MyOrg3MSP\n",
      "3\n",
      "<substra.sdk.client.Client object at 0x7fa89e810a00>\n",
      "<substra.sdk.client.Client object at 0x7fa89e810a00>\n",
      "MyOrg4MSP\n",
      "4\n",
      "<substra.sdk.client.Client object at 0x7fa88caa1c70>\n",
      "<substra.sdk.client.Client object at 0x7fa88caa1c70>\n",
      "MyOrg5MSP\n",
      "5\n",
      "<substra.sdk.client.Client object at 0x7fa88caa1b80>\n",
      "<substra.sdk.client.Client object at 0x7fa88caa1b80>\n",
      "MyOrg6MSP\n",
      "6\n",
      "<substra.sdk.client.Client object at 0x7fa88caa8700>\n",
      "<substra.sdk.client.Client object at 0x7fa88caa8700>\n"
     ]
    }
   ],
   "source": [
    "import pathlib\n",
    "\n",
    "from substra.sdk.schemas import DatasetSpec\n",
    "from substra.sdk.schemas import DataSampleSpec\n",
    "from substra.sdk.schemas import Permissions\n",
    "\n",
    "assets_directory = pathlib.Path.cwd() / \"integration/Substra/assets\"\n",
    "print(assets_directory)\n",
    "empty_path = assets_directory / \"empty_datasamples\"\n",
    "\n",
    "permissions_dataset = Permissions(public=True, authorized_ids=[\"Bridge2AI\", 'WCM', 'USF'])\n",
    "\n",
    "\n",
    "train_dataset_keys = {}\n",
    "test_dataset_keys = {}\n",
    "\n",
    "train_datasample_keys = {}\n",
    "test_datasample_keys = {}\n",
    "print(DATA_PROVIDER_ORGS_ID)\n",
    "print(data_provider_clients)\n",
    "for ind, org_id in enumerate(DATA_PROVIDER_ORGS_ID):\n",
    "    print(org_id)\n",
    "    ind += 1\n",
    "    print(ind)\n",
    "    client = data_provider_clients[org_id]\n",
    "    \n",
    "\n",
    "\n",
    "    # DatasetSpec is the specification of a dataset. It makes sure every field\n",
    "    # is well defined, and that our dataset is ready to be registered.\n",
    "    # The real dataset object is created in the add_dataset method.\n",
    "\n",
    "    dataset = DatasetSpec(\n",
    "        name=\"FLamby\",\n",
    "        type=\"torchDataset\",\n",
    "        data_opener=assets_directory / \"dataset\" / f\"opener_train_MyOrg{ind}MSP.py\",\n",
    "        description=assets_directory / \"dataset\" / \"description.md\",\n",
    "        permissions=permissions_dataset,\n",
    "        logs_permission=permissions_dataset,\n",
    "    )\n",
    "\n",
    "    # Add the dataset to the client to provide access to the opener in each organization.\n",
    "    train_dataset_key = client.add_dataset(dataset)\n",
    "    \n",
    "    print(client)\n",
    "\n",
    "    assert train_dataset_key, \"Missing data manager key\"\n",
    "\n",
    "    train_dataset_keys[org_id] = train_dataset_key\n",
    "    print(client)\n",
    "    # Add the training data on each organization.\n",
    "    data_sample = DataSampleSpec(\n",
    "        data_manager_keys=[train_dataset_key],\n",
    "        test_only=False,\n",
    "        path=empty_path,\n",
    "    )\n",
    "    #print(client.list_dataset())\n",
    "    train_datasample_key = client.add_data_sample(\n",
    "        data_sample,\n",
    "        local=True,\n",
    "    )\n",
    "\n",
    "    train_datasample_keys[org_id] = train_datasample_key\n",
    "\n",
    "    # Add the testing data.\n",
    "\n",
    "    test_dataset_key = client.add_dataset(\n",
    "        DatasetSpec(\n",
    "            name=\"FLamby\",\n",
    "            type=\"torchDataset\",\n",
    "            data_opener=assets_directory / \"dataset\" / f\"opener_test_MyOrg{ind}MSP.py\",\n",
    "            description=assets_directory / \"dataset\" / \"description.md\",\n",
    "            permissions=permissions_dataset,\n",
    "            logs_permission=permissions_dataset,\n",
    "        )\n",
    "    )\n",
    "    assert test_dataset_key, \"Missing data manager key\"\n",
    "    test_dataset_keys[org_id] = test_dataset_key\n",
    "\n",
    "    data_sample = DataSampleSpec(\n",
    "        data_manager_keys=[test_dataset_key],\n",
    "        test_only=True,\n",
    "        path=empty_path,\n",
    "    )\n",
    "    test_datasample_key = client.add_data_sample(\n",
    "        data_sample,\n",
    "        local=True,\n",
    "        \n",
    "    )\n",
    "\n",
    "    test_datasample_keys[org_id] = test_datasample_key\n",
    "\n",
    "\n",
    "    "
   ]
  },
  {
   "cell_type": "markdown",
   "metadata": {},
   "source": [
    "Register Datasets and set permissions"
   ]
  },
  {
   "cell_type": "code",
   "execution_count": 3,
   "metadata": {},
   "outputs": [
    {
     "name": "stdout",
     "output_type": "stream",
     "text": [
      "/Users/Stefan/Dropbox/Computer_Science/Owkin_Internship/FLamby\n",
      "0.39.0\n"
     ]
    }
   ],
   "source": [
    "import numpy as np\n",
    "\n",
    "from torch.utils import data\n",
    "\n",
    "from substrafl.dependency import Dependency\n",
    "\n",
    "\n",
    "def tgca_brca_metric(datasamples, predictions_path):\n",
    "\n",
    "    config = datasamples\n",
    "\n",
    "    dataset = fed_tcga_brca.FedTcgaBrca(**config)\n",
    "    dataloader = data.DataLoader(dataset, batch_size=len(dataset))\n",
    "\n",
    "    y_true =  next(iter(dataloader))[1]\n",
    "    y_pred = np.load(predictions_path)\n",
    "\n",
    "    return float(fed_tcga_brca.metric(y_true, y_pred))\n",
    "\n",
    "# The Dependency object is instantiated in order to install the right libraries in\n",
    "# the Python environment of each organization.\n",
    "# The local dependencies are local packages to be installed using the command `pip install -e .`.\n",
    "# Flamby is a local dependency. We put as argument the path to the `setup.py` file.\n",
    "print(pathlib.Path.cwd())\n",
    "metric_deps = Dependency(pypi_dependencies=[\"torch==1.11.0\",\"numpy==1.23.1\"],\n",
    "                         local_dependencies=[pathlib.Path.cwd()], # Flamby dependency\n",
    "                        )\n",
    "permissions_metric = Permissions(public = True, authorized_ids = DATA_PROVIDER_ORGS_ID)\n",
    "\n",
    "from importlib.metadata import version\n",
    "print(version('substrafl'))\n",
    "\n",
    "\n",
    "\n"
   ]
  },
  {
   "cell_type": "markdown",
   "metadata": {},
   "source": [
    "Specify how much data to train"
   ]
  },
  {
   "cell_type": "code",
   "execution_count": 4,
   "metadata": {},
   "outputs": [],
   "source": [
    "from substrafl.index_generator import NpIndexGenerator\n",
    "\n",
    "NUM_UPDATES = 16\n",
    "SEED = 42\n",
    "\n",
    "index_generator = NpIndexGenerator(\n",
    "    batch_size=fed_tcga_brca.BATCH_SIZE,\n",
    "    num_updates=NUM_UPDATES,\n",
    ")"
   ]
  },
  {
   "cell_type": "code",
   "execution_count": 5,
   "metadata": {},
   "outputs": [],
   "source": [
    "class TorchDataset(fed_tcga_brca.FedTcgaBrca):\n",
    "\n",
    "    def __init__(self, datasamples, is_inference):\n",
    "        config = datasamples\n",
    "        super().__init__(**config)"
   ]
  },
  {
   "cell_type": "markdown",
   "metadata": {},
   "source": [
    "Defines the Substra Algo"
   ]
  },
  {
   "cell_type": "code",
   "execution_count": 6,
   "metadata": {},
   "outputs": [],
   "source": [
    "import torch\n",
    "\n",
    "from substrafl.algorithms.pytorch import TorchFedAvgAlgo\n",
    "\n",
    "model = fed_tcga_brca.Baseline()\n",
    "\n",
    "class MyAlgo(TorchFedAvgAlgo):\n",
    "    def __init__(self):\n",
    "        super().__init__(\n",
    "            model=model,\n",
    "            criterion=fed_tcga_brca.BaselineLoss(),\n",
    "            optimizer=fed_tcga_brca.Optimizer(model.parameters(), lr=fed_tcga_brca.LR),\n",
    "            index_generator=index_generator,\n",
    "            dataset=TorchDataset,\n",
    "            seed=SEED,\n",
    "        )\n",
    "\n",
    "    def _local_predict(self, predict_dataset: torch.utils.data.Dataset, predictions_path):\n",
    "\n",
    "        batch_size = self._index_generator.batch_size\n",
    "        predict_loader = torch.utils.data.DataLoader(predict_dataset, batch_size=batch_size)\n",
    "\n",
    "        self._model.eval()\n",
    "\n",
    "        # The output dimension of the model is of size (1,)\n",
    "        predictions = torch.zeros((len(predict_dataset), 1))\n",
    "\n",
    "        with torch.inference_mode():\n",
    "            for i, (x, _) in enumerate(predict_loader):\n",
    "                x = x.to(self._device)\n",
    "                predictions[i * batch_size: (i+1) * batch_size] = self._model(x)\n",
    "\n",
    "        predictions = predictions.cpu().detach()\n",
    "        self._save_predictions(predictions, predictions_path)"
   ]
  },
  {
   "cell_type": "markdown",
   "metadata": {},
   "source": [
    "Pick FL Strategy (using Fed Avg)"
   ]
  },
  {
   "cell_type": "code",
   "execution_count": 7,
   "metadata": {},
   "outputs": [],
   "source": [
    "from substrafl.strategies import FedAvg\n",
    "\n",
    "\n",
    "\n",
    "strategy = FedAvg(algo=MyAlgo())\n"
   ]
  },
  {
   "cell_type": "markdown",
   "metadata": {},
   "source": [
    "Choose where to train and where to aggregate"
   ]
  },
  {
   "cell_type": "code",
   "execution_count": 8,
   "metadata": {},
   "outputs": [
    {
     "name": "stdout",
     "output_type": "stream",
     "text": [
      "<organizations.aggregation_node.AggregationNode object at 0x7fa89d810d90>\n"
     ]
    }
   ],
   "source": [
    "from substrafl.nodes import TrainDataNode\n",
    "from substrafl.nodes import AggregationNode\n",
    "\n",
    "\n",
    "aggregation_node = AggregationNode('MyOrg1MSP')\n",
    "print(aggregation_node)\n",
    "\n",
    "train_data_nodes = list()\n",
    "\n",
    "for org_id in DATA_PROVIDER_ORGS_ID:\n",
    "\n",
    "    # Create the Train Data Node (or training task) and save it in a list\n",
    "    train_data_node = TrainDataNode(\n",
    "        organization_id=org_id,\n",
    "        data_manager_key=train_dataset_keys[org_id],\n",
    "        data_sample_keys=[train_datasample_keys[org_id]],\n",
    "    )\n",
    "    train_data_nodes.append(train_data_node)\n",
    "\n",
    "    \n",
    "\n"
   ]
  },
  {
   "cell_type": "markdown",
   "metadata": {},
   "source": [
    "Choose where and when to test"
   ]
  },
  {
   "cell_type": "code",
   "execution_count": 9,
   "metadata": {},
   "outputs": [
    {
     "name": "stdout",
     "output_type": "stream",
     "text": [
      "{'MyOrg1MSP': '5dc5f923-cbc5-4c26-96b6-7dc5de39b188', 'MyOrg2MSP': 'db81be67-0941-4017-8350-ec1bc67d1ae2', 'MyOrg3MSP': 'd4a21cd9-6f53-48f3-8371-7b8d5a5090b6', 'MyOrg4MSP': '086337c4-2ea0-4ff4-888d-3a659bf30b30', 'MyOrg5MSP': '5f5f0102-9ef0-483f-b6f5-49666767f0ef', 'MyOrg6MSP': 'ec55b48e-cbfe-4f7b-aad9-1fb1084f1d76'}\n",
      "MyOrg1MSP\n",
      "46abb324-b206-4d20-a061-fb7f0b3d256a\n",
      "MyOrg2MSP\n",
      "6d1c5c74-5d69-4721-9641-18501f1757a2\n",
      "MyOrg3MSP\n",
      "19fc3e48-2514-4472-8204-07c2af363d96\n",
      "MyOrg4MSP\n",
      "b7cc2930-035d-4887-be12-83de089301ea\n",
      "MyOrg5MSP\n",
      "5f074d5a-15d9-47ba-bcca-5df4354b2214\n",
      "MyOrg6MSP\n",
      "59731633-351e-490f-95b3-fc1e1b3d393c\n",
      "[<substrafl.nodes.test_data_node.TestDataNode object at 0x7fa88cf54fa0>, <substrafl.nodes.test_data_node.TestDataNode object at 0x7fa88cf54fd0>, <substrafl.nodes.test_data_node.TestDataNode object at 0x7fa88cf74820>, <substrafl.nodes.test_data_node.TestDataNode object at 0x7fa88cf74670>, <substrafl.nodes.test_data_node.TestDataNode object at 0x7fa88cf745e0>, <substrafl.nodes.test_data_node.TestDataNode object at 0x7fa88cf74160>]\n",
      "0.46.0\n"
     ]
    }
   ],
   "source": [
    "from substrafl.nodes import TestDataNode\n",
    "from substrafl.evaluation_strategy import EvaluationStrategy\n",
    "\n",
    "\n",
    "\n",
    "\n",
    "\n",
    "test_data_nodes = list()\n",
    "print(test_datasample_keys)\n",
    "\n",
    "for org_id in DATA_PROVIDER_ORGS_ID:\n",
    "    print(org_id)\n",
    "    print(test_dataset_keys[org_id])\n",
    "\n",
    "    # Create the Test Data Node (or testing task) and save it in a list\n",
    "    test_data_node = TestDataNode(\n",
    "        organization_id=org_id,\n",
    "        data_manager_key=test_dataset_keys[org_id],\n",
    "        test_data_sample_keys=[test_datasample_keys[org_id]],\n",
    "        metric_functions={\"Accuracy\": tgca_brca_metric},\n",
    "    )\n",
    "    test_data_nodes.append(test_data_node)\n",
    "\n",
    "# Test at the end of every round\n",
    "print(test_data_nodes)\n",
    "my_eval_strategy = EvaluationStrategy(test_data_nodes=test_data_nodes, eval_rounds=[1])\n",
    "from importlib.metadata import version\n",
    "print(version('substra'))"
   ]
  },
  {
   "cell_type": "markdown",
   "metadata": {},
   "source": [
    "Performs the Experiment"
   ]
  },
  {
   "cell_type": "code",
   "execution_count": 10,
   "metadata": {},
   "outputs": [
    {
     "name": "stderr",
     "output_type": "stream",
     "text": [
      "2023-09-08 15:01:26,181 - INFO - Building the compute plan.\n",
      "2023-09-08 15:01:26,201 - INFO - Registering the functions to Substra.\n",
      "2023-09-08 15:01:26,445 - INFO - Registering the compute plan to Substra.\n",
      "2023-09-08 15:01:26,448 - INFO - Experiment summary saved to /Users/Stefan/Dropbox/Computer_Science/Owkin_Internship/FLamby/experiment_summaries/2023_09_08_15_01_26_65e24a72-7491-4e37-9c59-e9fc0e72bceb.json\n"
     ]
    },
    {
     "data": {
      "application/vnd.jupyter.widget-view+json": {
       "model_id": "01aff0694392409d830e3c06ef155c32",
       "version_major": 2,
       "version_minor": 0
      },
      "text/plain": [
       "Compute plan progress:   0%|          | 0/45 [00:00<?, ?it/s]"
      ]
     },
     "metadata": {},
     "output_type": "display_data"
    },
    {
     "name": "stderr",
     "output_type": "stream",
     "text": [
      "/Users/Stefan/opt/miniconda3/envs/flamby/lib/python3.8/site-packages/substra/sdk/backends/local/backend.py:601: UserWarning: `transient=True` is ignored in local mode\n",
      "  warnings.warn(\"`transient=True` is ignored in local mode\", stacklevel=1)\n"
     ]
    },
    {
     "name": "stdout",
     "output_type": "stream",
     "text": [
      "Have you taken the time to read and accept the data terms on the original website, available at the following link: https://gdc.cancer.gov/access-data/data-access-processes-and-tools ? | (y/n)\n",
      "\n",
      "\n"
     ]
    }
   ],
   "source": [
    "from substrafl.experiment import execute_experiment\n",
    "\n",
    "# Number of time to apply the compute plan.\n",
    "NUM_ROUNDS = 3\n",
    "\n",
    "# The Dependency object is instantiated in order to install the right libraries in\n",
    "# the Python environment of each organization.\n",
    "# The local dependencies are local packages to be installed using the command `pip install -e .`.\n",
    "# Flamby is a local dependency. We put as argument the path to the `setup.py` file.\n",
    "\n",
    "algo_deps = Dependency(pypi_dependencies=[\"torch==1.11.0\"], local_dependencies=[pathlib.Path.cwd()])\n",
    "#algo_deps = Dependency(pypi_dependencies=[\"torch==1.11.0\"])\n",
    "\n",
    "compute_plan = execute_experiment(\n",
    "    client=algo_provider_client,\n",
    "    strategy=strategy,\n",
    "    train_data_nodes=train_data_nodes,\n",
    "    evaluation_strategy=my_eval_strategy,\n",
    "    aggregation_node=aggregation_node,\n",
    "    num_rounds=NUM_ROUNDS,\n",
    "    experiment_folder= str(pathlib.Path.cwd() / \"experiment_summaries\"),\n",
    "    dependencies=algo_deps,\n",
    ")"
   ]
  },
  {
   "cell_type": "code",
   "execution_count": null,
   "metadata": {},
   "outputs": [
    {
     "ename": "NameError",
     "evalue": "name 'compute_plan' is not defined",
     "output_type": "error",
     "traceback": [
      "\u001b[0;31m---------------------------------------------------------------------------\u001b[0m",
      "\u001b[0;31mNameError\u001b[0m                                 Traceback (most recent call last)",
      "Cell \u001b[0;32mIn[11], line 7\u001b[0m\n\u001b[1;32m      4\u001b[0m plt\u001b[39m.\u001b[39mxlabel(\u001b[39m\"\u001b[39m\u001b[39mRounds\u001b[39m\u001b[39m\"\u001b[39m)\n\u001b[1;32m      5\u001b[0m plt\u001b[39m.\u001b[39mylabel(\u001b[39m\"\u001b[39m\u001b[39mMetric\u001b[39m\u001b[39m\"\u001b[39m)\n\u001b[0;32m----> 7\u001b[0m performance_df \u001b[39m=\u001b[39m pd\u001b[39m.\u001b[39mDataFrame(client\u001b[39m.\u001b[39mget_performances(compute_plan\u001b[39m.\u001b[39mkey)\u001b[39m.\u001b[39mdict())\n\u001b[1;32m      9\u001b[0m \u001b[39mfor\u001b[39;00m i, \u001b[39mid\u001b[39m \u001b[39min\u001b[39;00m \u001b[39menumerate\u001b[39m(DATA_PROVIDER_ORGS_ID):\n\u001b[1;32m     10\u001b[0m     df \u001b[39m=\u001b[39m performance_df\u001b[39m.\u001b[39mquery(\u001b[39mf\u001b[39m\u001b[39m\"\u001b[39m\u001b[39mworker == \u001b[39m\u001b[39m'\u001b[39m\u001b[39m{\u001b[39;00m\u001b[39mid\u001b[39m\u001b[39m}\u001b[39;00m\u001b[39m'\u001b[39m\u001b[39m\"\u001b[39m)\n",
      "\u001b[0;31mNameError\u001b[0m: name 'compute_plan' is not defined"
     ]
    },
    {
     "data": {
      "image/png": "[encoded data removed]",
      "text/plain": [
       "<Figure size 640x480 with 1 Axes>"
      ]
     },
     "metadata": {},
     "output_type": "display_data"
    }
   ],
   "source": [
    "import pandas as pd\n",
    "import matplotlib.pyplot as plt\n",
    "plt.title(\"Performance evolution on each center of the baseline on Fed-TCGA-BRCA with Federated Averaging training\")\n",
    "plt.xlabel(\"Rounds\")\n",
    "plt.ylabel(\"Metric\")\n",
    "\n",
    "performance_df = pd.DataFrame(client.get_performances(compute_plan.key).dict())\n",
    "\n",
    "for i, id in enumerate(DATA_PROVIDER_ORGS_ID):\n",
    "    df = performance_df.query(f\"worker == '{id}'\")\n",
    "    plt.plot(df[\"round_idx\"], df[\"performance\"], label=f\"Client {i} ({id})\")\n",
    "\n",
    "plt.legend(loc=(1.1, 0.3), title=\"Test set\")\n",
    "plt.show()"
   ]
  }
 ],
 "metadata": {
  "kernelspec": {
   "display_name": "base",
   "language": "python",
   "name": "python3"
  },
  "language_info": {
   "codemirror_mode": {
    "name": "ipython",
    "version": 3
   },
   "file_extension": ".py",
   "mimetype": "text/x-python",
   "name": "python",
   "nbconvert_exporter": "python",
   "pygments_lexer": "ipython3",
   "version": "3.8.17"
  },
  "orig_nbformat": 4
 },
 "nbformat": 4,
 "nbformat_minor": 2
}
